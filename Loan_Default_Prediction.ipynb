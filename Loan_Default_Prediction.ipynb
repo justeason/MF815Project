{
  "cells": [
    {
      "cell_type": "markdown",
      "id": "6fb36678",
      "metadata": {
        "id": "6fb36678"
      },
      "source": [
        "# Loan Default Prediction"
      ]
    },
    {
      "cell_type": "markdown",
      "id": "ad8f87c2",
      "metadata": {
        "id": "ad8f87c2"
      },
      "source": [
        "1. Split training data into training set and valudation set."
      ]
    },
    {
      "cell_type": "markdown",
      "source": [
        "Import the required packages. Since i am using google collabs, i mount my drive as well."
      ],
      "metadata": {
        "id": "KYwcO-pTbP-d"
      },
      "id": "KYwcO-pTbP-d"
    },
    {
      "cell_type": "code",
      "execution_count": 2,
      "id": "186c3d9c",
      "metadata": {
        "colab": {
          "base_uri": "https://localhost:8080/"
        },
        "id": "186c3d9c",
        "outputId": "ed415b3c-9081-484c-ffaa-13c4c0c5a07d"
      },
      "outputs": [
        {
          "output_type": "stream",
          "name": "stdout",
          "text": [
            "Mounted at /content/drive\n"
          ]
        }
      ],
      "source": [
        "import numpy as np\n",
        "import pandas as pd\n",
        "from sklearn.metrics import roc_curve, roc_auc_score, classification_report, accuracy_score, confusion_matrix \n",
        "import seaborn as sns\n",
        "import matplotlib.pyplot as plt\n",
        "from sklearn.model_selection import train_test_split\n",
        "from datetime import datetime, timedelta\n",
        "import re\n",
        "from sklearn.metrics import accuracy_score, confusion_matrix, roc_curve, f1_score\n",
        "from sklearn.naive_bayes import GaussianNB\n",
        "from sklearn.linear_model import SGDClassifier, LogisticRegression\n",
        "from sklearn.neighbors import KNeighborsClassifier\n",
        "from sklearn.svm import SVC\n",
        "from sklearn.tree import DecisionTreeClassifier\n",
        "from sklearn.ensemble import RandomForestClassifier\n",
        "from sklearn.preprocessing import StandardScaler, OneHotEncoder\n",
        "from sklearn.decomposition import PCA\n",
        "from google.colab import drive\n",
        "drive.mount('/content/drive')"
      ]
    },
    {
      "cell_type": "markdown",
      "source": [
        "Then i loaded the data as train and X_test. Since there are over 130 thousands of non-default data and over 50 thousands of default data, we should resample the training set to improve models prediction. I resample by randomly draw default data and add duplicate it in training set to balance out default / non-default ratio. Since the data contain categorical and date variables, I pre-process them through a function pre_process(train, X_test). I then split the variables and result in order to split train into training set and validation set. Through one-hot encoding, i added more variables to training, validation, and testing sets."
      ],
      "metadata": {
        "id": "j90Ectg-b1lO"
      },
      "id": "j90Ectg-b1lO"
    },
    {
      "cell_type": "code",
      "execution_count": 48,
      "id": "658d016b",
      "metadata": {
        "colab": {
          "base_uri": "https://localhost:8080/"
        },
        "id": "658d016b",
        "outputId": "a7b1d80a-b062-454d-e6dd-c687c8937c5b"
      },
      "outputs": [
        {
          "output_type": "stream",
          "name": "stdout",
          "text": [
            "train dataframe shape before:(174865, 41)\n",
            "X_test dataframe shape before:(58289, 40)\n",
            "train shape after resample:(273496, 41)\n",
            "(218796, 59) (218796,)\n",
            "(54700, 59) (54700,)\n",
            "(58289, 59)\n"
          ]
        }
      ],
      "source": [
        "#load data\n",
        "train = pd.read_csv('/content/drive/MyDrive/Midterm Project/Data/train_data.csv')\n",
        "X_test = pd.read_csv('/content/drive/MyDrive/Midterm Project/Data/test_data.csv')\n",
        "print(f'train dataframe shape before:{train.shape}')\n",
        "print(f'X_test dataframe shape before:{X_test.shape}')\n",
        "\n",
        "#adding copied default data to balance out training set\n",
        "train_default = train[train['loan_default'] == 1]\n",
        "sample_default = train_default.sample(len(train) - 2 * len(train_default), replace=True)\n",
        "train = pd.concat([train, sample_default], ignore_index=True)\n",
        "print(f'train shape after resample:{train.shape}')\n",
        "\n",
        "'''\n",
        "one-hot encoder encoding Employment.Type, PERFORM_CNS.SCORE.DESCRIPTION (20 categories in train, 19 in test)\n",
        "'''\n",
        "def pre_process(train, X_test):\n",
        "    # data pre-processing for both train and X_test, returns 2 of them separately\n",
        "    \n",
        "    #delete UniqueID as it provides no help, process at the end of function...\n",
        "    \n",
        "    #turn Date.of.Birth into age: 2021 - year of birth, delete Date.of.Birth at the end of function...\n",
        "    train['age'] = [datetime.now().year-datetime.strptime(i,\"%d/%m/%Y\").year for i in train['Date.of.Birth'].to_list()]\n",
        "    X_test['age'] = [datetime.now().year-datetime.strptime(i,\"%d/%m/%Y\").year for i in X_test['Date.of.Birth'].to_list()]\n",
        "    \n",
        "    #turn DisbursalDate into date till now, delete DisbursalDate at the end of function...\n",
        "    train['TimeFromDisbursal'] = [(datetime.now()-datetime.strptime(i,\"%d/%m/%Y\")).days for i in train['DisbursalDate'].to_list()]\n",
        "    X_test['TimeFromDisbursal'] = [(datetime.now()-datetime.strptime(i,\"%d/%m/%Y\")).days for i in X_test['DisbursalDate'].to_list()]\n",
        "    \n",
        "    #turn Employment.Type into one-hot encoding (2 categories total)\n",
        "    #data['Employment.Type'].value_counts() #two categories in total\n",
        "    #data['Employment.Type'] = pd.factorize(data['Employment.Type'])[0]\n",
        "    encoder_em = OneHotEncoder(sparse=False)\n",
        "    onehot_em = encoder_em.fit_transform(train['Employment.Type'].fillna('Unemployed').values.reshape(-1,1))\n",
        "    onehot_em = pd.DataFrame(onehot_em)\n",
        "    #one-hot transform test data without fit\n",
        "    onehot_em_test = pd.DataFrame(encoder_em.transform(X_test['Employment.Type'].fillna('Unemployed').values.reshape(-1,1)))\n",
        "    #drop the original column, process at the end of function...\n",
        "\n",
        "    #one-hot encoding PERFORM_CNS.SCORE.DESCRIPTION, as it has 20 categories\n",
        "    encoder_score = OneHotEncoder(sparse=False)\n",
        "    onehot_score = encoder_score.fit_transform(train['PERFORM_CNS.SCORE.DESCRIPTION'].values.reshape(-1,1))\n",
        "    onehot_score = pd.DataFrame(onehot_score)\n",
        "    #one-hot transform test data without fit as it only have 19 categorires \n",
        "    onehot_score_test = pd.DataFrame(encoder_score.transform(X_test['PERFORM_CNS.SCORE.DESCRIPTION'].values.reshape(-1,1)))\n",
        "    #drop the original column, process at the end of function...\n",
        "\n",
        "    #delete PERFORM_CNS.SCORE as it contains too many unique variables provides no other info but PERFORM_CNS.SCORE\n",
        "    \n",
        "    #turn AVERAGE.ACCT.AGE into number of days (assuming month=30days, year=365days)\n",
        "    lis = [list(map(int,re.findall(r'\\d+',i)))for i in train['AVERAGE.ACCT.AGE'].to_list()]\n",
        "    train['AVERAGE.ACCT.AGE'] = [365*i[0]+30*i[1] for i in lis]\n",
        "    lis2 = [list(map(int,re.findall(r'\\d+',i)))for i in X_test['AVERAGE.ACCT.AGE'].to_list()]\n",
        "    X_test['AVERAGE.ACCT.AGE'] = [365*i[0]+30*i[1] for i in lis2]\n",
        "    \n",
        "    #turn CREIDT.HISTORY.LENGTH into number of days (assuming month=30days, year=365days)\n",
        "    lis3 = [list(map(int,re.findall(r'\\d+',i)))for i in train['CREDIT.HISTORY.LENGTH'].to_list()]\n",
        "    train['CREDIT.HISTORY.LENGTH'] = [365*i[0]+30*i[1] for i in lis3]\n",
        "    lis4 = [list(map(int,re.findall(r'\\d+',i)))for i in X_test['CREDIT.HISTORY.LENGTH'].to_list()]\n",
        "    X_test['CREDIT.HISTORY.LENGTH'] = [365*i[0]+30*i[1] for i in lis4]\n",
        "    \n",
        "    #drop all old duplicated columns\n",
        "    train = train.drop(columns=['UniqueID','Date.of.Birth','DisbursalDate','Employment.Type','PERFORM_CNS.SCORE.DESCRIPTION','PERFORM_CNS.SCORE'])\n",
        "    X_test = X_test.drop(columns=['UniqueID','Date.of.Birth','DisbursalDate','Employment.Type','PERFORM_CNS.SCORE.DESCRIPTION','PERFORM_CNS.SCORE'])\n",
        "\n",
        "    #concate all one-hot dataframes with original data\n",
        "    train = pd.concat([train, onehot_em, onehot_score], axis=1)\n",
        "    X_test = pd.concat([X_test, onehot_em_test, onehot_score_test], axis=1)\n",
        "\n",
        "    return train, X_test\n",
        "\n",
        "#pre-process train and test data\n",
        "train, X_test = pre_process(train, X_test)\n",
        "\n",
        "#split training set into X and y\n",
        "X_tv = train.drop(columns=['loan_default'])\n",
        "y_tv = train['loan_default']\n",
        "\n",
        "#split X and y into training and validation set\n",
        "X_train,X_valid,y_train,y_valid = train_test_split(X_tv,y_tv,test_size=0.2,random_state=1)\n",
        "print(X_train.shape, y_train.shape)\n",
        "print(X_valid.shape, y_valid.shape)\n",
        "print(X_test.shape)"
      ]
    },
    {
      "cell_type": "code",
      "execution_count": null,
      "id": "ee5b45f7",
      "metadata": {
        "id": "ee5b45f7"
      },
      "outputs": [],
      "source": [
        "# Stadndardize data\n",
        "scaler = StandardScaler()\n",
        "scaler.fit(X_train)\n",
        "X_train = scaler.transform(X_train)\n",
        "X_valid = scaler.transform(X_valid)"
      ]
    },
    {
      "cell_type": "code",
      "execution_count": null,
      "id": "ad5daeb4",
      "metadata": {
        "id": "ad5daeb4",
        "outputId": "1575a875-141a-4e6e-e706-5a3865bc502d"
      },
      "outputs": [
        {
          "name": "stdout",
          "output_type": "stream",
          "text": [
            "(218796, 21) (218796,)\n",
            "(54700, 21) (54700,)\n",
            "(58289, 38)\n"
          ]
        }
      ],
      "source": [
        "# PCA on variables\n",
        "pca = PCA(0.95) #retain 95% of variance\n",
        "pca.fit(X_train) #fit pca on training set\n",
        "X_train = pca.transform(X_train) #apply mapping\n",
        "X_valid = pca.transform(X_valid) #apply mapping\n",
        "print(X_train.shape, y_train.shape)\n",
        "print(X_valid.shape, y_valid.shape)\n",
        "print(X_test.shape)"
      ]
    },
    {
      "cell_type": "code",
      "source": [
        "#check the columns of X_train\n",
        "pd.set_option('max_columns', None)\n",
        "print(X_train)"
      ],
      "metadata": {
        "colab": {
          "base_uri": "https://localhost:8080/"
        },
        "id": "V0cZgpCnODwO",
        "outputId": "d3d01b45-fe48-4566-b30e-c547de0c1261"
      },
      "id": "V0cZgpCnODwO",
      "execution_count": 47,
      "outputs": [
        {
          "output_type": "stream",
          "name": "stdout",
          "text": [
            "        disbursed_amount  asset_cost    ltv  branch_id  supplier_id  \\\n",
            "145252             50503       68654  76.03          3        18180   \n",
            "161988             45063       77714  60.11        254        23362   \n",
            "143361             82186      124359  67.55          7        22766   \n",
            "142634             44349       69019  66.65         61        16505   \n",
            "55069              51403       67700  78.14         67        17485   \n",
            "...                  ...         ...    ...        ...          ...   \n",
            "21440              67200       86517  79.98        121        20180   \n",
            "117583             48773       65647  78.45         82        21153   \n",
            "73349              47045       60346  81.03         74        16633   \n",
            "267336             48018       62289  83.48         74        16846   \n",
            "128037             40894       63723  65.91         14        24408   \n",
            "\n",
            "        manufacturer_id  Current_pincode_ID Employment.Type  State_ID  \\\n",
            "145252               86                  31   Self employed         1   \n",
            "161988               49                6734   Self employed        13   \n",
            "143361              120                5794   Self employed         3   \n",
            "142634               86                1377        Salaried         6   \n",
            "55069                45                1577        Salaried         6   \n",
            "...                 ...                 ...             ...       ...   \n",
            "21440               120                3663   Self employed         9   \n",
            "117583               48                4829   Self employed        19   \n",
            "73349                45                2578   Self employed         4   \n",
            "267336               45                2607        Salaried         4   \n",
            "128037               45                 792   Self employed        15   \n",
            "\n",
            "        Employee_code_ID  MobileNo_Avl_Flag  Aadhar_flag  PAN_flag  \\\n",
            "145252              1231                  1            1         0   \n",
            "161988               859                  1            1         0   \n",
            "143361              1480                  1            1         0   \n",
            "142634              1214                  1            1         0   \n",
            "55069               3207                  1            0         0   \n",
            "...                  ...                ...          ...       ...   \n",
            "21440               2590                  1            1         0   \n",
            "117583              3046                  1            1         0   \n",
            "73349               1720                  1            1         1   \n",
            "267336              3013                  1            1         0   \n",
            "128037              3342                  1            1         0   \n",
            "\n",
            "        VoterID_flag  Driving_flag  Passport_flag  \\\n",
            "145252             0             0              0   \n",
            "161988             0             0              0   \n",
            "143361             0             0              0   \n",
            "142634             0             0              0   \n",
            "55069              1             0              0   \n",
            "...              ...           ...            ...   \n",
            "21440              0             0              0   \n",
            "117583             0             0              0   \n",
            "73349              0             0              0   \n",
            "267336             0             0              0   \n",
            "128037             0             0              0   \n",
            "\n",
            "                            PERFORM_CNS.SCORE.DESCRIPTION  PRI.NO.OF.ACCTS  \\\n",
            "145252                                    A-Very Low Risk                1   \n",
            "161988                        No Bureau History Available                0   \n",
            "143361                        No Bureau History Available                0   \n",
            "142634                                    A-Very Low Risk                3   \n",
            "55069                                     A-Very Low Risk                2   \n",
            "...                                                   ...              ...   \n",
            "21440   Not Scored: Not Enough Info available on the c...                1   \n",
            "117583                                      I-Medium Risk                4   \n",
            "73349                         No Bureau History Available                0   \n",
            "267336                        No Bureau History Available                0   \n",
            "128037                        No Bureau History Available                0   \n",
            "\n",
            "        PRI.ACTIVE.ACCTS  PRI.OVERDUE.ACCTS  PRI.CURRENT.BALANCE  \\\n",
            "145252                 0                  0                    0   \n",
            "161988                 0                  0                    0   \n",
            "143361                 0                  0                    0   \n",
            "142634                 0                  0                    0   \n",
            "55069                  1                  0                16619   \n",
            "...                  ...                ...                  ...   \n",
            "21440                  1                  0               280916   \n",
            "117583                 1                  0               350000   \n",
            "73349                  0                  0                    0   \n",
            "267336                 0                  0                    0   \n",
            "128037                 0                  0                    0   \n",
            "\n",
            "        PRI.SANCTIONED.AMOUNT  PRI.DISBURSED.AMOUNT  SEC.NO.OF.ACCTS  \\\n",
            "145252                      0                     0                0   \n",
            "161988                      0                     0                0   \n",
            "143361                      0                     0                0   \n",
            "142634                      0                     0                0   \n",
            "55069                   30000                 30000                0   \n",
            "...                       ...                   ...              ...   \n",
            "21440                  301720                301720                0   \n",
            "117583                 350000                350000                0   \n",
            "73349                       0                     0                0   \n",
            "267336                      0                     0                0   \n",
            "128037                      0                     0                0   \n",
            "\n",
            "        SEC.ACTIVE.ACCTS  SEC.OVERDUE.ACCTS  SEC.CURRENT.BALANCE  \\\n",
            "145252                 0                  0                    0   \n",
            "161988                 0                  0                    0   \n",
            "143361                 0                  0                    0   \n",
            "142634                 0                  0                    0   \n",
            "55069                  0                  0                    0   \n",
            "...                  ...                ...                  ...   \n",
            "21440                  0                  0                    0   \n",
            "117583                 0                  0                    0   \n",
            "73349                  0                  0                    0   \n",
            "267336                 0                  0                    0   \n",
            "128037                 0                  0                    0   \n",
            "\n",
            "        SEC.SANCTIONED.AMOUNT  SEC.DISBURSED.AMOUNT  PRIMARY.INSTAL.AMT  \\\n",
            "145252                      0                     0                1499   \n",
            "161988                      0                     0                   0   \n",
            "143361                      0                     0                   0   \n",
            "142634                      0                     0                4652   \n",
            "55069                       0                     0                2981   \n",
            "...                       ...                   ...                 ...   \n",
            "21440                       0                     0                7907   \n",
            "117583                      0                     0              414861   \n",
            "73349                       0                     0                   0   \n",
            "267336                      0                     0                   0   \n",
            "128037                      0                     0                   0   \n",
            "\n",
            "        SEC.INSTAL.AMT  NEW.ACCTS.IN.LAST.SIX.MONTHS  \\\n",
            "145252               0                             0   \n",
            "161988               0                             0   \n",
            "143361               0                             0   \n",
            "142634               0                             0   \n",
            "55069                0                             0   \n",
            "...                ...                           ...   \n",
            "21440                0                             0   \n",
            "117583               0                             1   \n",
            "73349                0                             0   \n",
            "267336               0                             0   \n",
            "128037               0                             0   \n",
            "\n",
            "        DELINQUENT.ACCTS.IN.LAST.SIX.MONTHS  AVERAGE.ACCT.AGE  \\\n",
            "145252                                    0               180   \n",
            "161988                                    0                 0   \n",
            "143361                                    0                 0   \n",
            "142634                                    0               515   \n",
            "55069                                     0               365   \n",
            "...                                     ...               ...   \n",
            "21440                                     0               330   \n",
            "117583                                    1               455   \n",
            "73349                                     0                 0   \n",
            "267336                                    0                 0   \n",
            "128037                                    0                 0   \n",
            "\n",
            "        CREDIT.HISTORY.LENGTH  NO.OF_INQUIRIES  age  TimeFromDisbursal    0  \\\n",
            "145252                    180                0   42               1282  0.0   \n",
            "161988                      0                0   30               1321  0.0   \n",
            "143361                      0                0   33               1265  0.0   \n",
            "142634                   1155                0   35               1255  1.0   \n",
            "55069                     425                0   44               1266  1.0   \n",
            "...                       ...              ...  ...                ...  ...   \n",
            "21440                     330                0   34               1293  0.0   \n",
            "117583                   1125                0   47               1324  0.0   \n",
            "73349                       0                0   52               1257  0.0   \n",
            "267336                      0                0   34               1314  1.0   \n",
            "128037                      0                0   34               1297  0.0   \n",
            "\n",
            "          1    2    0    1    2    3    4    5    6    7    8    9   10   11  \\\n",
            "145252  1.0  0.0  1.0  0.0  0.0  0.0  0.0  0.0  0.0  0.0  0.0  0.0  0.0  0.0   \n",
            "161988  1.0  0.0  0.0  0.0  0.0  0.0  0.0  0.0  0.0  0.0  0.0  0.0  0.0  0.0   \n",
            "143361  1.0  0.0  0.0  0.0  0.0  0.0  0.0  0.0  0.0  0.0  0.0  0.0  0.0  0.0   \n",
            "142634  0.0  0.0  1.0  0.0  0.0  0.0  0.0  0.0  0.0  0.0  0.0  0.0  0.0  0.0   \n",
            "55069   0.0  0.0  1.0  0.0  0.0  0.0  0.0  0.0  0.0  0.0  0.0  0.0  0.0  0.0   \n",
            "...     ...  ...  ...  ...  ...  ...  ...  ...  ...  ...  ...  ...  ...  ...   \n",
            "21440   1.0  0.0  0.0  0.0  0.0  0.0  0.0  0.0  0.0  0.0  0.0  0.0  0.0  0.0   \n",
            "117583  1.0  0.0  0.0  0.0  0.0  0.0  0.0  0.0  0.0  0.0  1.0  0.0  0.0  0.0   \n",
            "73349   1.0  0.0  0.0  0.0  0.0  0.0  0.0  0.0  0.0  0.0  0.0  0.0  0.0  0.0   \n",
            "267336  0.0  0.0  0.0  0.0  0.0  0.0  0.0  0.0  0.0  0.0  0.0  0.0  0.0  0.0   \n",
            "128037  1.0  0.0  0.0  0.0  0.0  0.0  0.0  0.0  0.0  0.0  0.0  0.0  0.0  0.0   \n",
            "\n",
            "         12   13   14   15   16   17   18   19  \n",
            "145252  0.0  0.0  0.0  0.0  0.0  0.0  0.0  0.0  \n",
            "161988  0.0  1.0  0.0  0.0  0.0  0.0  0.0  0.0  \n",
            "143361  0.0  1.0  0.0  0.0  0.0  0.0  0.0  0.0  \n",
            "142634  0.0  0.0  0.0  0.0  0.0  0.0  0.0  0.0  \n",
            "55069   0.0  0.0  0.0  0.0  0.0  0.0  0.0  0.0  \n",
            "...     ...  ...  ...  ...  ...  ...  ...  ...  \n",
            "21440   0.0  0.0  0.0  0.0  0.0  1.0  0.0  0.0  \n",
            "117583  0.0  0.0  0.0  0.0  0.0  0.0  0.0  0.0  \n",
            "73349   0.0  1.0  0.0  0.0  0.0  0.0  0.0  0.0  \n",
            "267336  0.0  1.0  0.0  0.0  0.0  0.0  0.0  0.0  \n",
            "128037  0.0  1.0  0.0  0.0  0.0  0.0  0.0  0.0  \n",
            "\n",
            "[218796 rows x 61 columns]\n"
          ]
        }
      ]
    },
    {
      "cell_type": "markdown",
      "id": "a0f6a339",
      "metadata": {
        "id": "a0f6a339"
      },
      "source": [
        "2. Select classification models to predict loan default."
      ]
    },
    {
      "cell_type": "markdown",
      "source": [
        "I have used several models for prediction: Naive Bayes, Stochastic Gradient Descend, Knn, Logistic Regression, Decision Tree, and Random Forest. Since some models are not introduced in the course MF815, they will be process as a reference.\n",
        "I calibrate the best N for KNN model by looping through different Ns and find the one with highest F1 score. N is at best at 19.\n",
        "https://www.kaggle.com/getting-started/143685"
      ],
      "metadata": {
        "id": "t1TEDEgLesYI"
      },
      "id": "t1TEDEgLesYI"
    },
    {
      "cell_type": "code",
      "execution_count": 49,
      "id": "e96f5a47",
      "metadata": {
        "colab": {
          "base_uri": "https://localhost:8080/",
          "height": 567
        },
        "id": "e96f5a47",
        "outputId": "891c4511-bcbb-4b98-8fbe-bfbe720ecec3"
      },
      "outputs": [
        {
          "output_type": "stream",
          "name": "stderr",
          "text": [
            "/usr/local/lib/python3.7/dist-packages/sklearn/utils/validation.py:1692: FutureWarning: Feature names only support names that are all strings. Got feature names with dtypes: ['int', 'str']. An error will be raised in 1.2.\n",
            "  FutureWarning,\n"
          ]
        },
        {
          "output_type": "stream",
          "name": "stdout",
          "text": [
            "Number of default for Naive Bayes: 833\n",
            "Model Accuracy: 0.5004387568555758\n",
            "Model F1 Score: 0.020011476115334964\n",
            "Confusion Matrix:\n",
            "[[27095   554]\n",
            " [26772   279]]\n",
            "AUC:\n",
            "No Skill: ROC AUC=0.500\n",
            "Logistic: ROC AUC=0.550\n"
          ]
        },
        {
          "output_type": "stream",
          "name": "stderr",
          "text": [
            "/usr/local/lib/python3.7/dist-packages/sklearn/utils/validation.py:1692: FutureWarning: Feature names only support names that are all strings. Got feature names with dtypes: ['int', 'str']. An error will be raised in 1.2.\n",
            "  FutureWarning,\n",
            "/usr/local/lib/python3.7/dist-packages/sklearn/utils/validation.py:1692: FutureWarning: Feature names only support names that are all strings. Got feature names with dtypes: ['int', 'str']. An error will be raised in 1.2.\n",
            "  FutureWarning,\n"
          ]
        },
        {
          "output_type": "display_data",
          "data": {
            "text/plain": [
              "<Figure size 432x288 with 1 Axes>"
            ],
            "image/png": "[encoded data removed]"
          },
          "metadata": {
            "needs_background": "light"
          }
        }
      ],
      "source": [
        "# Naive Bayes\n",
        "nb = GaussianNB()\n",
        "nb.fit(X_train,y_train)\n",
        "y_pred_nb = nb.predict(X_valid)\n",
        "\n",
        "print(f'Number of default for Naive Bayes: {sum(y_pred_nb)}')\n",
        "print(f'Model Accuracy: {accuracy_score(y_valid,y_pred_nb)}')\n",
        "print(f'Model F1 Score: {f1_score(y_valid,y_pred_nb)}')\n",
        "print(f'Confusion Matrix:\\n{confusion_matrix(y_valid,y_pred_nb)}')\n",
        "print(f'AUC:')\n",
        "ns_probs = [0 for _ in range(len(y_valid))]\n",
        "lr_probs = nb.predict_proba(X_valid)[:, 1]\n",
        "ns_auc = roc_auc_score(y_valid, ns_probs)\n",
        "lr_auc = roc_auc_score(y_valid, lr_probs)\n",
        "print('No Skill: ROC AUC=%.3f' % (ns_auc))\n",
        "print('Logistic: ROC AUC=%.3f' % (lr_auc))\n",
        "ns_fpr, ns_tpr, _ = roc_curve(y_valid, ns_probs)\n",
        "lr_fpr, lr_tpr, _ = roc_curve(y_valid, lr_probs)\n",
        "plt.plot(ns_fpr, ns_tpr, linestyle='--', label='No Skill')\n",
        "plt.plot(lr_fpr, lr_tpr, marker='.', label='Logistic')\n",
        "plt.xlabel('False Positive Rate')\n",
        "plt.ylabel('True Positive Rate')\n",
        "plt.show()"
      ]
    },
    {
      "cell_type": "code",
      "execution_count": 50,
      "id": "efb85f69",
      "metadata": {
        "colab": {
          "base_uri": "https://localhost:8080/",
          "height": 567
        },
        "id": "efb85f69",
        "outputId": "7cc776b7-deef-4e05-ec05-6f6bf33fb9c7"
      },
      "outputs": [
        {
          "output_type": "stream",
          "name": "stderr",
          "text": [
            "/usr/local/lib/python3.7/dist-packages/sklearn/utils/validation.py:1692: FutureWarning: Feature names only support names that are all strings. Got feature names with dtypes: ['int', 'str']. An error will be raised in 1.2.\n",
            "  FutureWarning,\n"
          ]
        },
        {
          "output_type": "stream",
          "name": "stdout",
          "text": [
            "\n",
            "Number of default for Stochastic Gradient Descent: 37474\n",
            "Model Accuracy: 0.513217550274223\n",
            "Model F1 Score: 0.5873382409918636\n",
            "Confusion Matrix:\n",
            "[[ 9124 18525]\n",
            " [ 8102 18949]]\n",
            "No Skill: ROC AUC=0.500\n",
            "Logistic: ROC AUC=0.515\n"
          ]
        },
        {
          "output_type": "stream",
          "name": "stderr",
          "text": [
            "/usr/local/lib/python3.7/dist-packages/sklearn/utils/validation.py:1692: FutureWarning: Feature names only support names that are all strings. Got feature names with dtypes: ['int', 'str']. An error will be raised in 1.2.\n",
            "  FutureWarning,\n",
            "/usr/local/lib/python3.7/dist-packages/sklearn/utils/validation.py:1692: FutureWarning: Feature names only support names that are all strings. Got feature names with dtypes: ['int', 'str']. An error will be raised in 1.2.\n",
            "  FutureWarning,\n"
          ]
        },
        {
          "output_type": "display_data",
          "data": {
            "text/plain": [
              "<Figure size 432x288 with 1 Axes>"
            ],
            "image/png": "[encoded data removed]"
          },
          "metadata": {
            "needs_background": "light"
          }
        }
      ],
      "source": [
        "# Stochastic Gradient Descend\n",
        "sgd = SGDClassifier(loss='modified_huber',shuffle=True,random_state=101)\n",
        "sgd.fit(X_train,y_train)\n",
        "y_pred_sgd = sgd.predict(X_valid)\n",
        "\n",
        "print(f'\\nNumber of default for Stochastic Gradient Descent: {sum(y_pred_sgd)}')\n",
        "print(f'Model Accuracy: {accuracy_score(y_valid,y_pred_sgd)}')\n",
        "print(f'Model F1 Score: {f1_score(y_valid,y_pred_sgd)}')\n",
        "print(f'Confusion Matrix:\\n{confusion_matrix(y_valid,y_pred_sgd)}')\n",
        "ns_probs = [0 for _ in range(len(y_valid))]\n",
        "lr_probs = sgd.predict_proba(X_valid)[:, 1]\n",
        "ns_auc = roc_auc_score(y_valid, ns_probs)\n",
        "lr_auc = roc_auc_score(y_valid, lr_probs)\n",
        "print('No Skill: ROC AUC=%.3f' % (ns_auc))\n",
        "print('Logistic: ROC AUC=%.3f' % (lr_auc))\n",
        "ns_fpr, ns_tpr, _ = roc_curve(y_valid, ns_probs)\n",
        "lr_fpr, lr_tpr, _ = roc_curve(y_valid, lr_probs)\n",
        "plt.plot(ns_fpr, ns_tpr, linestyle='--', label='No Skill')\n",
        "plt.plot(lr_fpr, lr_tpr, marker='.', label='Logistic')\n",
        "plt.xlabel('False Positive Rate')\n",
        "plt.ylabel('True Positive Rate')\n",
        "plt.show()"
      ]
    },
    {
      "cell_type": "code",
      "execution_count": null,
      "id": "110d7ef1",
      "metadata": {
        "id": "110d7ef1"
      },
      "outputs": [],
      "source": [
        "# Kmeans\n",
        "kmeans = "
      ]
    },
    {
      "cell_type": "code",
      "execution_count": 51,
      "id": "38dc5806",
      "metadata": {
        "colab": {
          "base_uri": "https://localhost:8080/",
          "height": 567
        },
        "id": "38dc5806",
        "outputId": "2715441b-fc4b-40ea-dbde-86012ea9fe7f"
      },
      "outputs": [
        {
          "output_type": "stream",
          "name": "stderr",
          "text": [
            "/usr/local/lib/python3.7/dist-packages/sklearn/utils/validation.py:1692: FutureWarning: Feature names only support names that are all strings. Got feature names with dtypes: ['int', 'str']. An error will be raised in 1.2.\n",
            "  FutureWarning,\n",
            "/usr/local/lib/python3.7/dist-packages/sklearn/utils/validation.py:1692: FutureWarning: Feature names only support names that are all strings. Got feature names with dtypes: ['int', 'str']. An error will be raised in 1.2.\n",
            "  FutureWarning,\n"
          ]
        },
        {
          "output_type": "stream",
          "name": "stdout",
          "text": [
            "\n",
            "Number of default for KNN: 30764\n",
            "Model Accuracy: 0.6139488117001828\n",
            "Model F1 Score: 0.6347487676208597\n",
            "Confusion Matrix:\n",
            "[[15234 12415]\n",
            " [ 8702 18349]]\n"
          ]
        },
        {
          "output_type": "stream",
          "name": "stderr",
          "text": [
            "/usr/local/lib/python3.7/dist-packages/sklearn/utils/validation.py:1692: FutureWarning: Feature names only support names that are all strings. Got feature names with dtypes: ['int', 'str']. An error will be raised in 1.2.\n",
            "  FutureWarning,\n"
          ]
        },
        {
          "output_type": "stream",
          "name": "stdout",
          "text": [
            "No Skill: ROC AUC=0.500\n",
            "Logistic: ROC AUC=0.658\n"
          ]
        },
        {
          "output_type": "display_data",
          "data": {
            "text/plain": [
              "<Figure size 432x288 with 1 Axes>"
            ],
            "image/png": "[encoded data removed]"
          },
          "metadata": {
            "needs_background": "light"
          }
        }
      ],
      "source": [
        "# KNN\n",
        "knn = KNeighborsClassifier(n_neighbors=19)\n",
        "knn.fit(X_train,y_train)\n",
        "y_pred_knn = knn.predict(X_valid)\n",
        "\n",
        "print(f'\\nNumber of default for KNN: {sum(y_pred_knn)}')\n",
        "print(f'Model Accuracy: {accuracy_score(y_valid,y_pred_knn)}')\n",
        "print(f'Model F1 Score: {f1_score(y_valid,y_pred_knn)}')\n",
        "print(f'Confusion Matrix:\\n{confusion_matrix(y_valid,y_pred_knn)}')\n",
        "ns_probs = [0 for _ in range(len(y_valid))]\n",
        "lr_probs = knn.predict_proba(X_valid)[:, 1]\n",
        "ns_auc = roc_auc_score(y_valid, ns_probs)\n",
        "lr_auc = roc_auc_score(y_valid, lr_probs)\n",
        "print('No Skill: ROC AUC=%.3f' % (ns_auc))\n",
        "print('Logistic: ROC AUC=%.3f' % (lr_auc))\n",
        "ns_fpr, ns_tpr, _ = roc_curve(y_valid, ns_probs)\n",
        "lr_fpr, lr_tpr, _ = roc_curve(y_valid, lr_probs)\n",
        "plt.plot(ns_fpr, ns_tpr, linestyle='--', label='No Skill')\n",
        "plt.plot(lr_fpr, lr_tpr, marker='.', label='Logistic')\n",
        "plt.xlabel('False Positive Rate')\n",
        "plt.ylabel('True Positive Rate')\n",
        "plt.show()"
      ]
    },
    {
      "cell_type": "code",
      "execution_count": null,
      "id": "48399128",
      "metadata": {
        "id": "48399128"
      },
      "outputs": [],
      "source": [
        "# find the best n for KNN classification model\n",
        "def knn(n):\n",
        "    knn = KNeighborsClassifier(n_neighbors=n)\n",
        "    knn.fit(X_train,y_train)\n",
        "    y_pred_knn = knn.predict(X_valid)\n",
        "    return accuracy_score(y_valid,y_pred_knn)\n",
        "\n",
        "knn_bestaccuracy = 0\n",
        "for i in range(2,20):\n",
        "    accuracy = knn(i)\n",
        "    if accuracy > knn_bestaccuracy:\n",
        "        knn_bestn = i\n",
        "print(f'Best n for KNN classification: {knn_bestn}')"
      ]
    },
    {
      "cell_type": "code",
      "execution_count": 52,
      "id": "072b2e00",
      "metadata": {
        "colab": {
          "base_uri": "https://localhost:8080/",
          "height": 710
        },
        "id": "072b2e00",
        "outputId": "dcdc1e4c-2bbd-4ccb-a73d-acc6c6cdd046"
      },
      "outputs": [
        {
          "output_type": "stream",
          "name": "stderr",
          "text": [
            "/usr/local/lib/python3.7/dist-packages/sklearn/utils/validation.py:1692: FutureWarning: Feature names only support names that are all strings. Got feature names with dtypes: ['int', 'str']. An error will be raised in 1.2.\n",
            "  FutureWarning,\n",
            "/usr/local/lib/python3.7/dist-packages/sklearn/linear_model/_logistic.py:812: ConvergenceWarning: lbfgs failed to converge (status=1):\n",
            "STOP: TOTAL NO. of ITERATIONS REACHED LIMIT.\n",
            "\n",
            "Increase the number of iterations (max_iter) or scale the data as shown in:\n",
            "    https://scikit-learn.org/stable/modules/preprocessing.html\n",
            "Please also refer to the documentation for alternative solver options:\n",
            "    https://scikit-learn.org/stable/modules/linear_model.html#logistic-regression\n",
            "  options={\"iprint\": iprint, \"gtol\": tol, \"maxiter\": max_iter},\n",
            "/usr/local/lib/python3.7/dist-packages/sklearn/utils/validation.py:1692: FutureWarning: Feature names only support names that are all strings. Got feature names with dtypes: ['int', 'str']. An error will be raised in 1.2.\n",
            "  FutureWarning,\n",
            "/usr/local/lib/python3.7/dist-packages/sklearn/utils/validation.py:1692: FutureWarning: Feature names only support names that are all strings. Got feature names with dtypes: ['int', 'str']. An error will be raised in 1.2.\n",
            "  FutureWarning,\n"
          ]
        },
        {
          "output_type": "stream",
          "name": "stdout",
          "text": [
            "\n",
            "Number of default for Decision Tree: 34661\n",
            "Model Accuracy: 0.5648628884826326\n",
            "Model F1 Score: 0.6143051594503501\n",
            "Confusion Matrix:\n",
            "[[11943 15706]\n",
            " [ 8096 18955]]\n",
            "No Skill: ROC AUC=0.500\n",
            "SVM: ROC AUC=0.587\n"
          ]
        },
        {
          "output_type": "display_data",
          "data": {
            "text/plain": [
              "<Figure size 432x288 with 1 Axes>"
            ],
            "image/png": "[encoded data removed]"
          },
          "metadata": {
            "needs_background": "light"
          }
        }
      ],
      "source": [
        "# Logistic Regression\n",
        "lr = LogisticRegression(solver = 'lbfgs',max_iter = 1000)\n",
        "lr.fit(X_train,y_train)\n",
        "y_pred_lr = lr.predict(X_valid)\n",
        "\n",
        "print(f'\\nNumber of default for Decision Tree: {sum(y_pred_lr)}')\n",
        "print(f'Model Accuracy: {accuracy_score(y_valid,y_pred_lr)}')\n",
        "print(f'Model F1 Score: {f1_score(y_valid,y_pred_lr)}')\n",
        "print(f'Confusion Matrix:\\n{confusion_matrix(y_valid,y_pred_lr)}')\n",
        "ns_probs = [0 for _ in range(len(y_valid))]\n",
        "lr_probs = lr.predict_proba(X_valid)[:, 1]\n",
        "ns_auc = roc_auc_score(y_valid, ns_probs)\n",
        "lr_auc = roc_auc_score(y_valid, lr_probs)\n",
        "print('No Skill: ROC AUC=%.3f' % (ns_auc))\n",
        "print('SVM: ROC AUC=%.3f' % (lr_auc))\n",
        "ns_fpr, ns_tpr, _ = roc_curve(y_valid, ns_probs)\n",
        "lr_fpr, lr_tpr, _ = roc_curve(y_valid, lr_probs)\n",
        "plt.plot(ns_fpr, ns_tpr, linestyle='--', label='No Skill')\n",
        "plt.plot(lr_fpr, lr_tpr, marker='.', label='SVM')\n",
        "plt.xlabel('False Positive Rate')\n",
        "plt.ylabel('True Positive Rate')\n",
        "plt.show()"
      ]
    },
    {
      "cell_type": "code",
      "execution_count": 53,
      "id": "f69bea52",
      "metadata": {
        "colab": {
          "base_uri": "https://localhost:8080/",
          "height": 567
        },
        "id": "f69bea52",
        "outputId": "ba788ecb-02f0-4494-d675-04efd6fbea8a"
      },
      "outputs": [
        {
          "output_type": "stream",
          "name": "stderr",
          "text": [
            "/usr/local/lib/python3.7/dist-packages/sklearn/utils/validation.py:1692: FutureWarning: Feature names only support names that are all strings. Got feature names with dtypes: ['int', 'str']. An error will be raised in 1.2.\n",
            "  FutureWarning,\n"
          ]
        },
        {
          "output_type": "stream",
          "name": "stdout",
          "text": [
            "\n",
            "Number of default for Decision Tree: 26897\n",
            "Model Accuracy: 0.6084826325411334\n",
            "Model F1 Score: 0.603025135315489\n",
            "Confusion Matrix:\n",
            "[[17018 10631]\n",
            " [10785 16266]]\n",
            "No Skill: ROC AUC=0.500\n",
            "Logistic: ROC AUC=0.654\n"
          ]
        },
        {
          "output_type": "stream",
          "name": "stderr",
          "text": [
            "/usr/local/lib/python3.7/dist-packages/sklearn/utils/validation.py:1692: FutureWarning: Feature names only support names that are all strings. Got feature names with dtypes: ['int', 'str']. An error will be raised in 1.2.\n",
            "  FutureWarning,\n",
            "/usr/local/lib/python3.7/dist-packages/sklearn/utils/validation.py:1692: FutureWarning: Feature names only support names that are all strings. Got feature names with dtypes: ['int', 'str']. An error will be raised in 1.2.\n",
            "  FutureWarning,\n"
          ]
        },
        {
          "output_type": "display_data",
          "data": {
            "text/plain": [
              "<Figure size 432x288 with 1 Axes>"
            ],
            "image/png": "[encoded data removed]"
          },
          "metadata": {
            "needs_background": "light"
          }
        }
      ],
      "source": [
        "# Decision Tree\n",
        "dtree = DecisionTreeClassifier(max_depth=10,random_state=101,max_features=None,min_samples_leaf=15)\n",
        "dtree.fit(X_train,y_train)\n",
        "y_pred_dtree = dtree.predict(X_valid)\n",
        "\n",
        "print(f'\\nNumber of default for Decision Tree: {sum(y_pred_dtree)}')\n",
        "print(f'Model Accuracy: {accuracy_score(y_valid,y_pred_dtree)}')\n",
        "print(f'Model F1 Score: {f1_score(y_valid,y_pred_dtree)}')\n",
        "print(f'Confusion Matrix:\\n{confusion_matrix(y_valid,y_pred_dtree)}')\n",
        "ns_probs = [0 for _ in range(len(y_valid))]\n",
        "lr_probs = dtree.predict_proba(X_valid)[:, 1]\n",
        "ns_auc = roc_auc_score(y_valid, ns_probs)\n",
        "lr_auc = roc_auc_score(y_valid, lr_probs)\n",
        "print('No Skill: ROC AUC=%.3f' % (ns_auc))\n",
        "print('Logistic: ROC AUC=%.3f' % (lr_auc))\n",
        "ns_fpr, ns_tpr, _ = roc_curve(y_valid, ns_probs)\n",
        "lr_fpr, lr_tpr, _ = roc_curve(y_valid, lr_probs)\n",
        "plt.plot(ns_fpr, ns_tpr, linestyle='--', label='No Skill')\n",
        "plt.plot(lr_fpr, lr_tpr, marker='.', label='Decision Tree')\n",
        "plt.xlabel('False Positive Rate')\n",
        "plt.ylabel('True Positive Rate')\n",
        "plt.show()"
      ]
    },
    {
      "cell_type": "code",
      "execution_count": 54,
      "id": "892c0c38",
      "metadata": {
        "colab": {
          "base_uri": "https://localhost:8080/",
          "height": 567
        },
        "id": "892c0c38",
        "outputId": "c7f81ed1-7e4d-4e3d-a5c1-167ed93036e3"
      },
      "outputs": [
        {
          "output_type": "stream",
          "name": "stderr",
          "text": [
            "/usr/local/lib/python3.7/dist-packages/sklearn/utils/validation.py:1692: FutureWarning: Feature names only support names that are all strings. Got feature names with dtypes: ['int', 'str']. An error will be raised in 1.2.\n",
            "  FutureWarning,\n",
            "/usr/local/lib/python3.7/dist-packages/sklearn/utils/validation.py:1692: FutureWarning: Feature names only support names that are all strings. Got feature names with dtypes: ['int', 'str']. An error will be raised in 1.2.\n",
            "  FutureWarning,\n"
          ]
        },
        {
          "output_type": "stream",
          "name": "stdout",
          "text": [
            "\n",
            "Number of default for Decision Tree: 29385\n",
            "Model Accuracy: 0.7438391224862888\n",
            "Model F1 Score: 0.7517187610744915\n",
            "Confusion Matrix:\n",
            "[[19476  8173]\n",
            " [ 5839 21212]]\n",
            "No Skill: ROC AUC=0.500\n",
            "Random Forest: ROC AUC=0.826\n"
          ]
        },
        {
          "output_type": "stream",
          "name": "stderr",
          "text": [
            "/usr/local/lib/python3.7/dist-packages/sklearn/utils/validation.py:1692: FutureWarning: Feature names only support names that are all strings. Got feature names with dtypes: ['int', 'str']. An error will be raised in 1.2.\n",
            "  FutureWarning,\n"
          ]
        },
        {
          "output_type": "display_data",
          "data": {
            "text/plain": [
              "<Figure size 432x288 with 1 Axes>"
            ],
            "image/png": "[encoded data removed]"
          },
          "metadata": {
            "needs_background": "light"
          }
        }
      ],
      "source": [
        "# Random Forest\n",
        "rf = RandomForestClassifier(n_estimators=70,oob_score=True,n_jobs=-1,random_state=101,max_features=None,min_samples_leaf=30)\n",
        "rf.fit(X_train,y_train)\n",
        "y_pred_rf = rf.predict(X_valid)\n",
        "\n",
        "print(f'\\nNumber of default for Decision Tree: {sum(y_pred_rf)}')\n",
        "print(f'Model Accuracy: {accuracy_score(y_valid,y_pred_rf)}')\n",
        "print(f'Model F1 Score: {f1_score(y_valid,y_pred_rf)}')\n",
        "print(f'Confusion Matrix:\\n{confusion_matrix(y_valid,y_pred_rf)}')\n",
        "ns_probs = [0 for _ in range(len(y_valid))]\n",
        "lr_probs = rf.predict_proba(X_valid)[:, 1]\n",
        "ns_auc = roc_auc_score(y_valid, ns_probs)\n",
        "lr_auc = roc_auc_score(y_valid, lr_probs)\n",
        "print('No Skill: ROC AUC=%.3f' % (ns_auc))\n",
        "print('Random Forest: ROC AUC=%.3f' % (lr_auc))\n",
        "ns_fpr, ns_tpr, _ = roc_curve(y_valid, ns_probs)\n",
        "lr_fpr, lr_tpr, _ = roc_curve(y_valid, lr_probs)\n",
        "plt.plot(ns_fpr, ns_tpr, linestyle='--', label='No Skill')\n",
        "plt.plot(lr_fpr, lr_tpr, marker='.', label='Random Forest')\n",
        "plt.xlabel('False Positive Rate')\n",
        "plt.ylabel('True Positive Rate')\n",
        "plt.show()"
      ]
    },
    {
      "cell_type": "code",
      "execution_count": null,
      "id": "e981a5ba",
      "metadata": {
        "id": "e981a5ba"
      },
      "outputs": [],
      "source": [
        "# Support Vector Machine (way too slow)\n",
        "svm = SVC(kernel='linear',random_state=101)\n",
        "svm.fit(X_train,y_train)\n",
        "y_pred_svm = svm.predict(X_valid)\n",
        "\n",
        "print(f'\\nNumber of default for Decision Tree: {sum(y_pred_svm)}')\n",
        "print(f'Model Accuracy: {accuracy_score(y_valid,y_pred_svm)}')\n",
        "print(f'Model F1 Score: {f1_score(y_valid,y_pred_svm)}')\n",
        "print(f'Confusion Matrix:\\n{confusion_matrix(y_valid,y_pred_svm)}')\n",
        "ns_probs = [0 for _ in range(len(y_valid))]\n",
        "lr_probs = svm.predict_proba(X_valid)[:, 1]\n",
        "ns_auc = roc_auc_score(y_valid, ns_probs)\n",
        "lr_auc = roc_auc_score(y_valid, lr_probs)\n",
        "print('No Skill: ROC AUC=%.3f' % (ns_auc))\n",
        "print('SVM: ROC AUC=%.3f' % (lr_auc))\n",
        "ns_fpr, ns_tpr, _ = roc_curve(y_valid, ns_probs)\n",
        "lr_fpr, lr_tpr, _ = roc_curve(y_valid, lr_probs)\n",
        "plt.plot(ns_fpr, ns_tpr, linestyle='--', label='No Skill')\n",
        "plt.plot(lr_fpr, lr_tpr, marker='.', label='SVM')\n",
        "plt.xlabel('False Positive Rate')\n",
        "plt.ylabel('True Positive Rate')\n",
        "plt.show()"
      ]
    },
    {
      "cell_type": "markdown",
      "id": "89bf8cec",
      "metadata": {
        "id": "89bf8cec"
      },
      "source": [
        "3. select best model, predict loan default"
      ]
    },
    {
      "cell_type": "code",
      "execution_count": 57,
      "id": "063a59b0",
      "metadata": {
        "colab": {
          "base_uri": "https://localhost:8080/"
        },
        "id": "063a59b0",
        "outputId": "204a75b1-d326-46c3-e74a-dd318c1d80c6"
      },
      "outputs": [
        {
          "output_type": "stream",
          "name": "stderr",
          "text": [
            "/usr/local/lib/python3.7/dist-packages/sklearn/utils/validation.py:1692: FutureWarning: Feature names only support names that are all strings. Got feature names with dtypes: ['int', 'str']. An error will be raised in 1.2.\n",
            "  FutureWarning,\n"
          ]
        }
      ],
      "source": [
        "#KNN seems to be the most accurate model\n",
        "result = knn.predict(X_test)\n",
        "result_df = pd.read_csv('/content/drive/MyDrive/Midterm Project/Data/test_data.csv')\n",
        "result_df['loan_default'] = result\n",
        "#np.savetxt('result.csv', result_df, delimiter=',')\n",
        "result_df.to_csv('result.csv')"
      ]
    },
    {
      "cell_type": "markdown",
      "id": "27d7810b",
      "metadata": {
        "id": "27d7810b"
      },
      "source": [
        "4. Report performance (accuracy, F1-score for each class, AUC) for models\n",
        "https://www.jeremyjordan.me/evaluating-a-machine-learning-model/\n",
        "https://jakevdp.github.io/PythonDataScienceHandbook/05.03-hyperparameters-and-model-validation.html\n",
        "https://machinelearningmastery.com/roc-curves-and-precision-recall-curves-for-classification-in-python/\n",
        "https://www.analyticsvidhya.com/blog/2020/06/auc-roc-curve-machine-learning/"
      ]
    },
    {
      "cell_type": "markdown",
      "source": [
        "For each model, I calculated the number of default, model accuracy, model F1 score, confusion matrix, and plotted ROC AUC. Through these visualization, I found that Random Forest has the best prediction result with 0.826 AUC and 0.752 F1 score. Since we haven't cover this model in class, the second best model is KNN with 0.658 AUC and 0.635 F1 score. That's the best model we have, so I concat X_test with KNN prediction in a DataFrame and save it to a CSV file."
      ],
      "metadata": {
        "id": "Q9CVARIIg99N"
      },
      "id": "Q9CVARIIg99N"
    }
  ],
  "metadata": {
    "kernelspec": {
      "display_name": "Python 3",
      "language": "python",
      "name": "python3"
    },
    "language_info": {
      "codemirror_mode": {
        "name": "ipython",
        "version": 3
      },
      "file_extension": ".py",
      "mimetype": "text/x-python",
      "name": "python",
      "nbconvert_exporter": "python",
      "pygments_lexer": "ipython3",
      "version": "3.8.8"
    },
    "colab": {
      "name": "Loan Default Prediction.ipynb",
      "provenance": [],
      "collapsed_sections": []
    }
  },
  "nbformat": 4,
  "nbformat_minor": 5
}