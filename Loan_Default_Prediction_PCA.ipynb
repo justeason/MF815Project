{
  "cells": [
    {
      "cell_type": "markdown",
      "id": "6fb36678",
      "metadata": {
        "id": "6fb36678"
      },
      "source": [
        "# Loan Default Prediction"
      ]
    },
    {
      "cell_type": "markdown",
      "id": "ad8f87c2",
      "metadata": {
        "id": "ad8f87c2"
      },
      "source": [
        "1. Split training data into training set and valudation set."
      ]
    },
    {
      "cell_type": "markdown",
      "source": [
        "Import the required packages. Since i am using google collabs, i mount my drive as well."
      ],
      "metadata": {
        "id": "KYwcO-pTbP-d"
      },
      "id": "KYwcO-pTbP-d"
    },
    {
      "cell_type": "code",
      "execution_count": 2,
      "id": "186c3d9c",
      "metadata": {
        "colab": {
          "base_uri": "https://localhost:8080/"
        },
        "id": "186c3d9c",
        "outputId": "ed415b3c-9081-484c-ffaa-13c4c0c5a07d"
      },
      "outputs": [
        {
          "output_type": "stream",
          "name": "stdout",
          "text": [
            "Mounted at /content/drive\n"
          ]
        }
      ],
      "source": [
        "import numpy as np\n",
        "import pandas as pd\n",
        "from sklearn.metrics import roc_curve, roc_auc_score, classification_report, accuracy_score, confusion_matrix \n",
        "import seaborn as sns\n",
        "import matplotlib.pyplot as plt\n",
        "from sklearn.model_selection import train_test_split\n",
        "from datetime import datetime, timedelta\n",
        "import re\n",
        "from sklearn.metrics import accuracy_score, confusion_matrix, roc_curve, f1_score\n",
        "from sklearn.naive_bayes import GaussianNB\n",
        "from sklearn.linear_model import SGDClassifier, LogisticRegression\n",
        "from sklearn.neighbors import KNeighborsClassifier\n",
        "from sklearn.svm import SVC\n",
        "from sklearn.tree import DecisionTreeClassifier\n",
        "from sklearn.ensemble import RandomForestClassifier\n",
        "from sklearn.preprocessing import StandardScaler, OneHotEncoder\n",
        "from sklearn.decomposition import PCA\n",
        "from google.colab import drive\n",
        "drive.mount('/content/drive')"
      ]
    },
    {
      "cell_type": "markdown",
      "source": [
        "Then i loaded the data as train and X_test. Since there are over 130 thousands of non-default data and over 50 thousands of default data, we should resample the training set to improve models prediction. I resample by randomly draw default data and add duplicate it in training set to balance out default / non-default ratio. Since the data contain categorical and date variables, I pre-process them through a function pre_process(train, X_test). I then split the variables and result in order to split train into training set and validation set. Through one-hot encoding, i added more variables to training, validation, and testing sets."
      ],
      "metadata": {
        "id": "j90Ectg-b1lO"
      },
      "id": "j90Ectg-b1lO"
    },
    {
      "cell_type": "code",
      "execution_count": 58,
      "id": "658d016b",
      "metadata": {
        "colab": {
          "base_uri": "https://localhost:8080/"
        },
        "id": "658d016b",
        "outputId": "1fecdb52-d27e-45c5-879b-abc4ac973f99"
      },
      "outputs": [
        {
          "output_type": "stream",
          "name": "stdout",
          "text": [
            "train dataframe shape before:(174865, 41)\n",
            "X_test dataframe shape before:(58289, 40)\n",
            "train shape after resample:(273496, 41)\n",
            "(218796, 59) (218796,)\n",
            "(54700, 59) (54700,)\n",
            "(58289, 59)\n"
          ]
        }
      ],
      "source": [
        "#load data\n",
        "train = pd.read_csv('/content/drive/MyDrive/Midterm Project/Data/train_data.csv')\n",
        "X_test = pd.read_csv('/content/drive/MyDrive/Midterm Project/Data/test_data.csv')\n",
        "print(f'train dataframe shape before:{train.shape}')\n",
        "print(f'X_test dataframe shape before:{X_test.shape}')\n",
        "\n",
        "#adding copied default data to balance out training set\n",
        "train_default = train[train['loan_default'] == 1]\n",
        "sample_default = train_default.sample(len(train) - 2 * len(train_default), replace=True)\n",
        "train = pd.concat([train, sample_default], ignore_index=True)\n",
        "print(f'train shape after resample:{train.shape}')\n",
        "\n",
        "'''\n",
        "one-hot encoder encoding Employment.Type, PERFORM_CNS.SCORE.DESCRIPTION (20 categories in train, 19 in test)\n",
        "'''\n",
        "def pre_process(train, X_test):\n",
        "    # data pre-processing for both train and X_test, returns 2 of them separately\n",
        "    \n",
        "    #delete UniqueID as it provides no help, process at the end of function...\n",
        "    \n",
        "    #turn Date.of.Birth into age: 2021 - year of birth, delete Date.of.Birth at the end of function...\n",
        "    train['age'] = [datetime.now().year-datetime.strptime(i,\"%d/%m/%Y\").year for i in train['Date.of.Birth'].to_list()]\n",
        "    X_test['age'] = [datetime.now().year-datetime.strptime(i,\"%d/%m/%Y\").year for i in X_test['Date.of.Birth'].to_list()]\n",
        "    \n",
        "    #turn DisbursalDate into date till now, delete DisbursalDate at the end of function...\n",
        "    train['TimeFromDisbursal'] = [(datetime.now()-datetime.strptime(i,\"%d/%m/%Y\")).days for i in train['DisbursalDate'].to_list()]\n",
        "    X_test['TimeFromDisbursal'] = [(datetime.now()-datetime.strptime(i,\"%d/%m/%Y\")).days for i in X_test['DisbursalDate'].to_list()]\n",
        "    \n",
        "    #turn Employment.Type into one-hot encoding (2 categories total)\n",
        "    #data['Employment.Type'].value_counts() #two categories in total\n",
        "    #data['Employment.Type'] = pd.factorize(data['Employment.Type'])[0]\n",
        "    encoder_em = OneHotEncoder(sparse=False)\n",
        "    onehot_em = encoder_em.fit_transform(train['Employment.Type'].fillna('Unemployed').values.reshape(-1,1))\n",
        "    onehot_em = pd.DataFrame(onehot_em)\n",
        "    #one-hot transform test data without fit\n",
        "    onehot_em_test = pd.DataFrame(encoder_em.transform(X_test['Employment.Type'].fillna('Unemployed').values.reshape(-1,1)))\n",
        "    #drop the original column, process at the end of function...\n",
        "\n",
        "    #one-hot encoding PERFORM_CNS.SCORE.DESCRIPTION, as it has 20 categories\n",
        "    encoder_score = OneHotEncoder(sparse=False)\n",
        "    onehot_score = encoder_score.fit_transform(train['PERFORM_CNS.SCORE.DESCRIPTION'].values.reshape(-1,1))\n",
        "    onehot_score = pd.DataFrame(onehot_score)\n",
        "    #one-hot transform test data without fit as it only have 19 categorires \n",
        "    onehot_score_test = pd.DataFrame(encoder_score.transform(X_test['PERFORM_CNS.SCORE.DESCRIPTION'].values.reshape(-1,1)))\n",
        "    #drop the original column, process at the end of function...\n",
        "\n",
        "    #delete PERFORM_CNS.SCORE as it contains too many unique variables provides no other info but PERFORM_CNS.SCORE\n",
        "    \n",
        "    #turn AVERAGE.ACCT.AGE into number of days (assuming month=30days, year=365days)\n",
        "    lis = [list(map(int,re.findall(r'\\d+',i)))for i in train['AVERAGE.ACCT.AGE'].to_list()]\n",
        "    train['AVERAGE.ACCT.AGE'] = [365*i[0]+30*i[1] for i in lis]\n",
        "    lis2 = [list(map(int,re.findall(r'\\d+',i)))for i in X_test['AVERAGE.ACCT.AGE'].to_list()]\n",
        "    X_test['AVERAGE.ACCT.AGE'] = [365*i[0]+30*i[1] for i in lis2]\n",
        "    \n",
        "    #turn CREIDT.HISTORY.LENGTH into number of days (assuming month=30days, year=365days)\n",
        "    lis3 = [list(map(int,re.findall(r'\\d+',i)))for i in train['CREDIT.HISTORY.LENGTH'].to_list()]\n",
        "    train['CREDIT.HISTORY.LENGTH'] = [365*i[0]+30*i[1] for i in lis3]\n",
        "    lis4 = [list(map(int,re.findall(r'\\d+',i)))for i in X_test['CREDIT.HISTORY.LENGTH'].to_list()]\n",
        "    X_test['CREDIT.HISTORY.LENGTH'] = [365*i[0]+30*i[1] for i in lis4]\n",
        "    \n",
        "    #drop all old duplicated columns\n",
        "    train = train.drop(columns=['UniqueID','Date.of.Birth','DisbursalDate','Employment.Type','PERFORM_CNS.SCORE.DESCRIPTION','PERFORM_CNS.SCORE'])\n",
        "    X_test = X_test.drop(columns=['UniqueID','Date.of.Birth','DisbursalDate','Employment.Type','PERFORM_CNS.SCORE.DESCRIPTION','PERFORM_CNS.SCORE'])\n",
        "\n",
        "    #concate all one-hot dataframes with original data\n",
        "    train = pd.concat([train, onehot_em, onehot_score], axis=1)\n",
        "    X_test = pd.concat([X_test, onehot_em_test, onehot_score_test], axis=1)\n",
        "\n",
        "    return train, X_test\n",
        "\n",
        "#pre-process train and test data\n",
        "train, X_test = pre_process(train, X_test)\n",
        "\n",
        "#split training set into X and y\n",
        "X_tv = train.drop(columns=['loan_default'])\n",
        "y_tv = train['loan_default']\n",
        "\n",
        "#split X and y into training and validation set\n",
        "X_train,X_valid,y_train,y_valid = train_test_split(X_tv,y_tv,test_size=0.2,random_state=1)\n",
        "print(X_train.shape, y_train.shape)\n",
        "print(X_valid.shape, y_valid.shape)\n",
        "print(X_test.shape)"
      ]
    },
    {
      "cell_type": "code",
      "execution_count": 59,
      "id": "ee5b45f7",
      "metadata": {
        "colab": {
          "base_uri": "https://localhost:8080/"
        },
        "id": "ee5b45f7",
        "outputId": "5323c26b-ecb5-454a-d208-126b3b2e1f87"
      },
      "outputs": [
        {
          "output_type": "stream",
          "name": "stderr",
          "text": [
            "/usr/local/lib/python3.7/dist-packages/sklearn/utils/validation.py:1692: FutureWarning: Feature names only support names that are all strings. Got feature names with dtypes: ['int', 'str']. An error will be raised in 1.2.\n",
            "  FutureWarning,\n",
            "/usr/local/lib/python3.7/dist-packages/sklearn/utils/validation.py:1692: FutureWarning: Feature names only support names that are all strings. Got feature names with dtypes: ['int', 'str']. An error will be raised in 1.2.\n",
            "  FutureWarning,\n",
            "/usr/local/lib/python3.7/dist-packages/sklearn/utils/validation.py:1692: FutureWarning: Feature names only support names that are all strings. Got feature names with dtypes: ['int', 'str']. An error will be raised in 1.2.\n",
            "  FutureWarning,\n"
          ]
        }
      ],
      "source": [
        "# Stadndardize data\n",
        "scaler = StandardScaler()\n",
        "scaler.fit(X_train)\n",
        "X_train = scaler.transform(X_train)\n",
        "X_valid = scaler.transform(X_valid)"
      ]
    },
    {
      "cell_type": "code",
      "execution_count": 60,
      "id": "ad5daeb4",
      "metadata": {
        "colab": {
          "base_uri": "https://localhost:8080/"
        },
        "id": "ad5daeb4",
        "outputId": "160d6f29-c811-41da-f387-1dcc8137d089"
      },
      "outputs": [
        {
          "output_type": "stream",
          "name": "stdout",
          "text": [
            "(218796, 43) (218796,)\n",
            "(54700, 43) (54700,)\n",
            "(58289, 59)\n"
          ]
        }
      ],
      "source": [
        "# PCA on variables\n",
        "pca = PCA(0.95) #retain 95% of variance\n",
        "pca.fit(X_train) #fit pca on training set\n",
        "X_train = pca.transform(X_train) #apply mapping\n",
        "X_valid = pca.transform(X_valid) #apply mapping\n",
        "print(X_train.shape, y_train.shape)\n",
        "print(X_valid.shape, y_valid.shape)\n",
        "print(X_test.shape)"
      ]
    },
    {
      "cell_type": "code",
      "source": [
        "#check the columns of X_train\n",
        "pd.set_option('max_columns', None)\n",
        "print(X_train)"
      ],
      "metadata": {
        "colab": {
          "base_uri": "https://localhost:8080/"
        },
        "id": "V0cZgpCnODwO",
        "outputId": "74cddb2f-72f1-4cf3-c539-ef44b5a14ea6"
      },
      "id": "V0cZgpCnODwO",
      "execution_count": 61,
      "outputs": [
        {
          "output_type": "stream",
          "name": "stdout",
          "text": [
            "[[-0.19388002 -0.09094595 -1.24135673 ... -0.29006143 -0.20771122\n",
            "   0.69385381]\n",
            " [-1.98868072  0.49561983  1.33246096 ...  0.09901214  0.07694407\n",
            "  -0.37113537]\n",
            " [-1.70871747  0.19883042  1.2326495  ... -0.08059805  0.10287582\n",
            "  -0.15420068]\n",
            " ...\n",
            " [-1.20218373  0.25702369  0.02549785 ... -1.22383977  0.26732526\n",
            "  -0.32426984]\n",
            " [ 0.3235602  -0.23800156  3.76342142 ...  1.46543965 -0.50735423\n",
            "   0.59129595]\n",
            " [-1.58437703  0.40315825 -0.03716586 ...  1.43389041 -0.34641292\n",
            "   0.8011255 ]]\n"
          ]
        }
      ]
    },
    {
      "cell_type": "markdown",
      "id": "a0f6a339",
      "metadata": {
        "id": "a0f6a339"
      },
      "source": [
        "2. Select classification models to predict loan default."
      ]
    },
    {
      "cell_type": "markdown",
      "source": [
        "I have used several models for prediction: Naive Bayes, Stochastic Gradient Descend, Knn, Logistic Regression, Decision Tree, and Random Forest. Since some models are not introduced in the course MF815, they will be process as a reference.\n",
        "I calibrate the best N for KNN model by looping through different Ns and find the one with highest F1 score. N is at best at 19.\n",
        "https://www.kaggle.com/getting-started/143685"
      ],
      "metadata": {
        "id": "t1TEDEgLesYI"
      },
      "id": "t1TEDEgLesYI"
    },
    {
      "cell_type": "code",
      "execution_count": 62,
      "id": "e96f5a47",
      "metadata": {
        "colab": {
          "base_uri": "https://localhost:8080/",
          "height": 439
        },
        "id": "e96f5a47",
        "outputId": "3e7e531a-002a-44d3-a02b-df2f0c3a2b54"
      },
      "outputs": [
        {
          "output_type": "stream",
          "name": "stdout",
          "text": [
            "Number of default for Naive Bayes: 38021\n",
            "Model Accuracy: 0.5480804387568555\n",
            "Model F1 Score: 0.6201131054831571\n",
            "Confusion Matrix:\n",
            "[[ 9804 17845]\n",
            " [ 6875 20176]]\n",
            "AUC:\n",
            "No Skill: ROC AUC=0.500\n",
            "Logistic: ROC AUC=0.589\n"
          ]
        },
        {
          "output_type": "display_data",
          "data": {
            "text/plain": [
              "<Figure size 432x288 with 1 Axes>"
            ],
            "image/png": "[encoded data removed]"
          },
          "metadata": {
            "needs_background": "light"
          }
        }
      ],
      "source": [
        "# Naive Bayes\n",
        "nb = GaussianNB()\n",
        "nb.fit(X_train,y_train)\n",
        "y_pred_nb = nb.predict(X_valid)\n",
        "\n",
        "print(f'Number of default for Naive Bayes: {sum(y_pred_nb)}')\n",
        "print(f'Model Accuracy: {accuracy_score(y_valid,y_pred_nb)}')\n",
        "print(f'Model F1 Score: {f1_score(y_valid,y_pred_nb)}')\n",
        "print(f'Confusion Matrix:\\n{confusion_matrix(y_valid,y_pred_nb)}')\n",
        "print(f'AUC:')\n",
        "ns_probs = [0 for _ in range(len(y_valid))]\n",
        "lr_probs = nb.predict_proba(X_valid)[:, 1]\n",
        "ns_auc = roc_auc_score(y_valid, ns_probs)\n",
        "lr_auc = roc_auc_score(y_valid, lr_probs)\n",
        "print('No Skill: ROC AUC=%.3f' % (ns_auc))\n",
        "print('Logistic: ROC AUC=%.3f' % (lr_auc))\n",
        "ns_fpr, ns_tpr, _ = roc_curve(y_valid, ns_probs)\n",
        "lr_fpr, lr_tpr, _ = roc_curve(y_valid, lr_probs)\n",
        "plt.plot(ns_fpr, ns_tpr, linestyle='--', label='No Skill')\n",
        "plt.plot(lr_fpr, lr_tpr, marker='.', label='Logistic')\n",
        "plt.xlabel('False Positive Rate')\n",
        "plt.ylabel('True Positive Rate')\n",
        "plt.show()"
      ]
    },
    {
      "cell_type": "code",
      "execution_count": 63,
      "id": "efb85f69",
      "metadata": {
        "colab": {
          "base_uri": "https://localhost:8080/",
          "height": 439
        },
        "id": "efb85f69",
        "outputId": "fb28db38-ee1d-4abf-ebcd-10841ab07faf"
      },
      "outputs": [
        {
          "output_type": "stream",
          "name": "stdout",
          "text": [
            "\n",
            "Number of default for Stochastic Gradient Descent: 28312\n",
            "Model Accuracy: 0.5626142595978062\n",
            "Model F1 Score: 0.567852175640771\n",
            "Confusion Matrix:\n",
            "[[15056 12593]\n",
            " [11332 15719]]\n",
            "No Skill: ROC AUC=0.500\n",
            "Logistic: ROC AUC=0.590\n"
          ]
        },
        {
          "output_type": "display_data",
          "data": {
            "text/plain": [
              "<Figure size 432x288 with 1 Axes>"
            ],
            "image/png": "[encoded data removed]"
          },
          "metadata": {
            "needs_background": "light"
          }
        }
      ],
      "source": [
        "# Stochastic Gradient Descend\n",
        "sgd = SGDClassifier(loss='modified_huber',shuffle=True,random_state=101)\n",
        "sgd.fit(X_train,y_train)\n",
        "y_pred_sgd = sgd.predict(X_valid)\n",
        "\n",
        "print(f'\\nNumber of default for Stochastic Gradient Descent: {sum(y_pred_sgd)}')\n",
        "print(f'Model Accuracy: {accuracy_score(y_valid,y_pred_sgd)}')\n",
        "print(f'Model F1 Score: {f1_score(y_valid,y_pred_sgd)}')\n",
        "print(f'Confusion Matrix:\\n{confusion_matrix(y_valid,y_pred_sgd)}')\n",
        "ns_probs = [0 for _ in range(len(y_valid))]\n",
        "lr_probs = sgd.predict_proba(X_valid)[:, 1]\n",
        "ns_auc = roc_auc_score(y_valid, ns_probs)\n",
        "lr_auc = roc_auc_score(y_valid, lr_probs)\n",
        "print('No Skill: ROC AUC=%.3f' % (ns_auc))\n",
        "print('Logistic: ROC AUC=%.3f' % (lr_auc))\n",
        "ns_fpr, ns_tpr, _ = roc_curve(y_valid, ns_probs)\n",
        "lr_fpr, lr_tpr, _ = roc_curve(y_valid, lr_probs)\n",
        "plt.plot(ns_fpr, ns_tpr, linestyle='--', label='No Skill')\n",
        "plt.plot(lr_fpr, lr_tpr, marker='.', label='Logistic')\n",
        "plt.xlabel('False Positive Rate')\n",
        "plt.ylabel('True Positive Rate')\n",
        "plt.show()"
      ]
    },
    {
      "cell_type": "code",
      "execution_count": null,
      "id": "110d7ef1",
      "metadata": {
        "id": "110d7ef1"
      },
      "outputs": [],
      "source": [
        "# Kmeans\n",
        "kmeans = "
      ]
    },
    {
      "cell_type": "code",
      "execution_count": 64,
      "id": "38dc5806",
      "metadata": {
        "colab": {
          "base_uri": "https://localhost:8080/",
          "height": 439
        },
        "id": "38dc5806",
        "outputId": "16fa8b79-a207-4f9c-eff2-9a4899fca028"
      },
      "outputs": [
        {
          "output_type": "stream",
          "name": "stdout",
          "text": [
            "\n",
            "Number of default for KNN: 30560\n",
            "Model Accuracy: 0.6278427787934187\n",
            "Model F1 Score: 0.6466473416535037\n",
            "Confusion Matrix:\n",
            "[[15716 11933]\n",
            " [ 8424 18627]]\n",
            "No Skill: ROC AUC=0.500\n",
            "Logistic: ROC AUC=0.676\n"
          ]
        },
        {
          "output_type": "display_data",
          "data": {
            "text/plain": [
              "<Figure size 432x288 with 1 Axes>"
            ],
            "image/png": "[encoded data removed]"
          },
          "metadata": {
            "needs_background": "light"
          }
        }
      ],
      "source": [
        "# KNN\n",
        "knn = KNeighborsClassifier(n_neighbors=19)\n",
        "knn.fit(X_train,y_train)\n",
        "y_pred_knn = knn.predict(X_valid)\n",
        "\n",
        "print(f'\\nNumber of default for KNN: {sum(y_pred_knn)}')\n",
        "print(f'Model Accuracy: {accuracy_score(y_valid,y_pred_knn)}')\n",
        "print(f'Model F1 Score: {f1_score(y_valid,y_pred_knn)}')\n",
        "print(f'Confusion Matrix:\\n{confusion_matrix(y_valid,y_pred_knn)}')\n",
        "ns_probs = [0 for _ in range(len(y_valid))]\n",
        "lr_probs = knn.predict_proba(X_valid)[:, 1]\n",
        "ns_auc = roc_auc_score(y_valid, ns_probs)\n",
        "lr_auc = roc_auc_score(y_valid, lr_probs)\n",
        "print('No Skill: ROC AUC=%.3f' % (ns_auc))\n",
        "print('Logistic: ROC AUC=%.3f' % (lr_auc))\n",
        "ns_fpr, ns_tpr, _ = roc_curve(y_valid, ns_probs)\n",
        "lr_fpr, lr_tpr, _ = roc_curve(y_valid, lr_probs)\n",
        "plt.plot(ns_fpr, ns_tpr, linestyle='--', label='No Skill')\n",
        "plt.plot(lr_fpr, lr_tpr, marker='.', label='Logistic')\n",
        "plt.xlabel('False Positive Rate')\n",
        "plt.ylabel('True Positive Rate')\n",
        "plt.show()"
      ]
    },
    {
      "cell_type": "code",
      "execution_count": null,
      "id": "48399128",
      "metadata": {
        "id": "48399128"
      },
      "outputs": [],
      "source": [
        "# find the best n for KNN classification model\n",
        "def knn(n):\n",
        "    knn = KNeighborsClassifier(n_neighbors=n)\n",
        "    knn.fit(X_train,y_train)\n",
        "    y_pred_knn = knn.predict(X_valid)\n",
        "    return accuracy_score(y_valid,y_pred_knn)\n",
        "\n",
        "knn_bestaccuracy = 0\n",
        "for i in range(2,20):\n",
        "    accuracy = knn(i)\n",
        "    if accuracy > knn_bestaccuracy:\n",
        "        knn_bestn = i\n",
        "print(f'Best n for KNN classification: {knn_bestn}')"
      ]
    },
    {
      "cell_type": "code",
      "execution_count": 65,
      "id": "072b2e00",
      "metadata": {
        "colab": {
          "base_uri": "https://localhost:8080/",
          "height": 439
        },
        "id": "072b2e00",
        "outputId": "7dd25e4d-d8f9-4da9-ca6a-5756401a3f8b"
      },
      "outputs": [
        {
          "output_type": "stream",
          "name": "stdout",
          "text": [
            "\n",
            "Number of default for Decision Tree: 29955\n",
            "Model Accuracy: 0.59345521023766\n",
            "Model F1 Score: 0.6099007122057326\n",
            "Confusion Matrix:\n",
            "[[15078 12571]\n",
            " [ 9667 17384]]\n",
            "No Skill: ROC AUC=0.500\n",
            "SVM: ROC AUC=0.633\n"
          ]
        },
        {
          "output_type": "display_data",
          "data": {
            "text/plain": [
              "<Figure size 432x288 with 1 Axes>"
            ],
            "image/png": "[encoded data removed]"
          },
          "metadata": {
            "needs_background": "light"
          }
        }
      ],
      "source": [
        "# Logistic Regression\n",
        "lr = LogisticRegression(solver = 'lbfgs',max_iter = 1000)\n",
        "lr.fit(X_train,y_train)\n",
        "y_pred_lr = lr.predict(X_valid)\n",
        "\n",
        "print(f'\\nNumber of default for Decision Tree: {sum(y_pred_lr)}')\n",
        "print(f'Model Accuracy: {accuracy_score(y_valid,y_pred_lr)}')\n",
        "print(f'Model F1 Score: {f1_score(y_valid,y_pred_lr)}')\n",
        "print(f'Confusion Matrix:\\n{confusion_matrix(y_valid,y_pred_lr)}')\n",
        "ns_probs = [0 for _ in range(len(y_valid))]\n",
        "lr_probs = lr.predict_proba(X_valid)[:, 1]\n",
        "ns_auc = roc_auc_score(y_valid, ns_probs)\n",
        "lr_auc = roc_auc_score(y_valid, lr_probs)\n",
        "print('No Skill: ROC AUC=%.3f' % (ns_auc))\n",
        "print('SVM: ROC AUC=%.3f' % (lr_auc))\n",
        "ns_fpr, ns_tpr, _ = roc_curve(y_valid, ns_probs)\n",
        "lr_fpr, lr_tpr, _ = roc_curve(y_valid, lr_probs)\n",
        "plt.plot(ns_fpr, ns_tpr, linestyle='--', label='No Skill')\n",
        "plt.plot(lr_fpr, lr_tpr, marker='.', label='SVM')\n",
        "plt.xlabel('False Positive Rate')\n",
        "plt.ylabel('True Positive Rate')\n",
        "plt.show()"
      ]
    },
    {
      "cell_type": "code",
      "execution_count": 66,
      "id": "f69bea52",
      "metadata": {
        "colab": {
          "base_uri": "https://localhost:8080/",
          "height": 439
        },
        "id": "f69bea52",
        "outputId": "d64bc652-e718-4045-c2f4-ea5fa1795e79"
      },
      "outputs": [
        {
          "output_type": "stream",
          "name": "stdout",
          "text": [
            "\n",
            "Number of default for Decision Tree: 30529\n",
            "Model Accuracy: 0.6062157221206581\n",
            "Model F1 Score: 0.6259117749218478\n",
            "Confusion Matrix:\n",
            "[[15140 12509]\n",
            " [ 9031 18020]]\n",
            "No Skill: ROC AUC=0.500\n",
            "Logistic: ROC AUC=0.648\n"
          ]
        },
        {
          "output_type": "display_data",
          "data": {
            "text/plain": [
              "<Figure size 432x288 with 1 Axes>"
            ],
            "image/png": "[encoded data removed]"
          },
          "metadata": {
            "needs_background": "light"
          }
        }
      ],
      "source": [
        "# Decision Tree\n",
        "dtree = DecisionTreeClassifier(max_depth=10,random_state=101,max_features=None,min_samples_leaf=15)\n",
        "dtree.fit(X_train,y_train)\n",
        "y_pred_dtree = dtree.predict(X_valid)\n",
        "\n",
        "print(f'\\nNumber of default for Decision Tree: {sum(y_pred_dtree)}')\n",
        "print(f'Model Accuracy: {accuracy_score(y_valid,y_pred_dtree)}')\n",
        "print(f'Model F1 Score: {f1_score(y_valid,y_pred_dtree)}')\n",
        "print(f'Confusion Matrix:\\n{confusion_matrix(y_valid,y_pred_dtree)}')\n",
        "ns_probs = [0 for _ in range(len(y_valid))]\n",
        "lr_probs = dtree.predict_proba(X_valid)[:, 1]\n",
        "ns_auc = roc_auc_score(y_valid, ns_probs)\n",
        "lr_auc = roc_auc_score(y_valid, lr_probs)\n",
        "print('No Skill: ROC AUC=%.3f' % (ns_auc))\n",
        "print('Logistic: ROC AUC=%.3f' % (lr_auc))\n",
        "ns_fpr, ns_tpr, _ = roc_curve(y_valid, ns_probs)\n",
        "lr_fpr, lr_tpr, _ = roc_curve(y_valid, lr_probs)\n",
        "plt.plot(ns_fpr, ns_tpr, linestyle='--', label='No Skill')\n",
        "plt.plot(lr_fpr, lr_tpr, marker='.', label='Decision Tree')\n",
        "plt.xlabel('False Positive Rate')\n",
        "plt.ylabel('True Positive Rate')\n",
        "plt.show()"
      ]
    },
    {
      "cell_type": "code",
      "execution_count": 67,
      "id": "892c0c38",
      "metadata": {
        "colab": {
          "base_uri": "https://localhost:8080/",
          "height": 439
        },
        "id": "892c0c38",
        "outputId": "2a17b381-57d5-4a8a-9175-aa38c18b3671"
      },
      "outputs": [
        {
          "output_type": "stream",
          "name": "stdout",
          "text": [
            "\n",
            "Number of default for Decision Tree: 29387\n",
            "Model Accuracy: 0.7797440585009141\n",
            "Model F1 Score: 0.7865268081788865\n",
            "Confusion Matrix:\n",
            "[[20457  7192]\n",
            " [ 4856 22195]]\n",
            "No Skill: ROC AUC=0.500\n",
            "Random Forest: ROC AUC=0.866\n"
          ]
        },
        {
          "output_type": "display_data",
          "data": {
            "text/plain": [
              "<Figure size 432x288 with 1 Axes>"
            ],
            "image/png": "[encoded data removed]"
          },
          "metadata": {
            "needs_background": "light"
          }
        }
      ],
      "source": [
        "# Random Forest\n",
        "rf = RandomForestClassifier(n_estimators=70,oob_score=True,n_jobs=-1,random_state=101,max_features=None,min_samples_leaf=30)\n",
        "rf.fit(X_train,y_train)\n",
        "y_pred_rf = rf.predict(X_valid)\n",
        "\n",
        "print(f'\\nNumber of default for Decision Tree: {sum(y_pred_rf)}')\n",
        "print(f'Model Accuracy: {accuracy_score(y_valid,y_pred_rf)}')\n",
        "print(f'Model F1 Score: {f1_score(y_valid,y_pred_rf)}')\n",
        "print(f'Confusion Matrix:\\n{confusion_matrix(y_valid,y_pred_rf)}')\n",
        "ns_probs = [0 for _ in range(len(y_valid))]\n",
        "lr_probs = rf.predict_proba(X_valid)[:, 1]\n",
        "ns_auc = roc_auc_score(y_valid, ns_probs)\n",
        "lr_auc = roc_auc_score(y_valid, lr_probs)\n",
        "print('No Skill: ROC AUC=%.3f' % (ns_auc))\n",
        "print('Random Forest: ROC AUC=%.3f' % (lr_auc))\n",
        "ns_fpr, ns_tpr, _ = roc_curve(y_valid, ns_probs)\n",
        "lr_fpr, lr_tpr, _ = roc_curve(y_valid, lr_probs)\n",
        "plt.plot(ns_fpr, ns_tpr, linestyle='--', label='No Skill')\n",
        "plt.plot(lr_fpr, lr_tpr, marker='.', label='Random Forest')\n",
        "plt.xlabel('False Positive Rate')\n",
        "plt.ylabel('True Positive Rate')\n",
        "plt.show()"
      ]
    },
    {
      "cell_type": "code",
      "execution_count": null,
      "id": "e981a5ba",
      "metadata": {
        "id": "e981a5ba"
      },
      "outputs": [],
      "source": [
        "# Support Vector Machine (way too slow)\n",
        "svm = SVC(kernel='linear',random_state=101)\n",
        "svm.fit(X_train,y_train)\n",
        "y_pred_svm = svm.predict(X_valid)\n",
        "\n",
        "print(f'\\nNumber of default for Decision Tree: {sum(y_pred_svm)}')\n",
        "print(f'Model Accuracy: {accuracy_score(y_valid,y_pred_svm)}')\n",
        "print(f'Model F1 Score: {f1_score(y_valid,y_pred_svm)}')\n",
        "print(f'Confusion Matrix:\\n{confusion_matrix(y_valid,y_pred_svm)}')\n",
        "ns_probs = [0 for _ in range(len(y_valid))]\n",
        "lr_probs = svm.predict_proba(X_valid)[:, 1]\n",
        "ns_auc = roc_auc_score(y_valid, ns_probs)\n",
        "lr_auc = roc_auc_score(y_valid, lr_probs)\n",
        "print('No Skill: ROC AUC=%.3f' % (ns_auc))\n",
        "print('SVM: ROC AUC=%.3f' % (lr_auc))\n",
        "ns_fpr, ns_tpr, _ = roc_curve(y_valid, ns_probs)\n",
        "lr_fpr, lr_tpr, _ = roc_curve(y_valid, lr_probs)\n",
        "plt.plot(ns_fpr, ns_tpr, linestyle='--', label='No Skill')\n",
        "plt.plot(lr_fpr, lr_tpr, marker='.', label='SVM')\n",
        "plt.xlabel('False Positive Rate')\n",
        "plt.ylabel('True Positive Rate')\n",
        "plt.show()"
      ]
    },
    {
      "cell_type": "markdown",
      "id": "89bf8cec",
      "metadata": {
        "id": "89bf8cec"
      },
      "source": [
        "3. select best model, predict loan default"
      ]
    },
    {
      "cell_type": "code",
      "execution_count": 57,
      "id": "063a59b0",
      "metadata": {
        "colab": {
          "base_uri": "https://localhost:8080/"
        },
        "id": "063a59b0",
        "outputId": "204a75b1-d326-46c3-e74a-dd318c1d80c6"
      },
      "outputs": [
        {
          "output_type": "stream",
          "name": "stderr",
          "text": [
            "/usr/local/lib/python3.7/dist-packages/sklearn/utils/validation.py:1692: FutureWarning: Feature names only support names that are all strings. Got feature names with dtypes: ['int', 'str']. An error will be raised in 1.2.\n",
            "  FutureWarning,\n"
          ]
        }
      ],
      "source": [
        "#KNN seems to be the most accurate model\n",
        "result = knn.predict(X_test)\n",
        "result_df = pd.read_csv('/content/drive/MyDrive/Midterm Project/Data/test_data.csv')\n",
        "result_df['loan_default'] = result\n",
        "#np.savetxt('result.csv', result_df, delimiter=',')\n",
        "result_df.to_csv('result.csv')"
      ]
    },
    {
      "cell_type": "markdown",
      "id": "27d7810b",
      "metadata": {
        "id": "27d7810b"
      },
      "source": [
        "4. Report performance (accuracy, F1-score for each class, AUC) for models\n",
        "https://www.jeremyjordan.me/evaluating-a-machine-learning-model/\n",
        "https://jakevdp.github.io/PythonDataScienceHandbook/05.03-hyperparameters-and-model-validation.html\n",
        "https://machinelearningmastery.com/roc-curves-and-precision-recall-curves-for-classification-in-python/\n",
        "https://www.analyticsvidhya.com/blog/2020/06/auc-roc-curve-machine-learning/"
      ]
    },
    {
      "cell_type": "markdown",
      "source": [
        "For each model, I calculated the number of default, model accuracy, model F1 score, confusion matrix, and plotted ROC AUC. Through these visualization, I found that Random Forest has the best prediction result with 0.826 AUC and 0.752 F1 score. Since we haven't cover this model in class, the second best model is KNN with 0.658 AUC and 0.635 F1 score. That's the best model we have, so I concat X_test with KNN prediction in a DataFrame and save it to a CSV file."
      ],
      "metadata": {
        "id": "Q9CVARIIg99N"
      },
      "id": "Q9CVARIIg99N"
    }
  ],
  "metadata": {
    "kernelspec": {
      "display_name": "Python 3",
      "language": "python",
      "name": "python3"
    },
    "language_info": {
      "codemirror_mode": {
        "name": "ipython",
        "version": 3
      },
      "file_extension": ".py",
      "mimetype": "text/x-python",
      "name": "python",
      "nbconvert_exporter": "python",
      "pygments_lexer": "ipython3",
      "version": "3.8.8"
    },
    "colab": {
      "name": "Loan Default Prediction.ipynb",
      "provenance": [],
      "collapsed_sections": []
    }
  },
  "nbformat": 4,
  "nbformat_minor": 5
}